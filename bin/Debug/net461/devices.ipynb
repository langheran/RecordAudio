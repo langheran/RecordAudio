{
 "cells": [
  {
   "cell_type": "markdown",
   "metadata": {},
   "source": [
    "# Devices"
   ]
  },
  {
   "cell_type": "code",
   "execution_count": null,
   "metadata": {},
   "outputs": [],
   "source": [
    "using System;\n",
    "using NAudio.Wave;\n",
    "using RGiesecke.DllExport;\n",
    "using System.Runtime.InteropServices;\n",
    "using System.Windows.Forms;\n",
    "using System.IO;\n",
    "using NAudio.Wave.SampleProviders;\n",
    "using NAudio.CoreAudioApi;"
   ]
  },
  {
   "cell_type": "code",
   "execution_count": null,
   "metadata": {},
   "outputs": [],
   "source": [
    "for (int n = -1; n < NAudio.Wave.WaveIn.DeviceCount; n++)\n",
    "{\n",
    "    var caps = WaveIn.GetCapabilities(n);\n",
    "    Console.WriteLine($\"{n}: {caps.ProductName}\");\n",
    "}"
   ]
  },
  {
   "cell_type": "code",
   "execution_count": null,
   "metadata": {},
   "outputs": [],
   "source": [
    "for (int n=1; n<5; n++)\n",
    "{\n",
    "    Console.WriteLine(\"AAA\");\n",
    "}"
   ]
  }
 ],
 "metadata": {
  "kernelspec": {
   "display_name": "C#",
   "language": "csharp",
   "name": "icsharpkernel"
  },
  "language": "csharp"
 },
 "nbformat": 4,
 "nbformat_minor": 2
}
